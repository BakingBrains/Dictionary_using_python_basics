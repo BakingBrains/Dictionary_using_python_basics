{
 "cells": [
  {
   "cell_type": "code",
   "execution_count": 15,
   "metadata": {},
   "outputs": [],
   "source": [
    "import json\n",
    "from difflib import get_close_matches"
   ]
  },
  {
   "cell_type": "code",
   "execution_count": 16,
   "metadata": {},
   "outputs": [
    {
     "name": "stdout",
     "output_type": "stream",
     "text": [
      "Load Successful\n"
     ]
    }
   ],
   "source": [
    "#load_file\n",
    "data = json.load(open(\"data.json\"))\n",
    "print(\"Load Successful\")"
   ]
  },
  {
   "cell_type": "code",
   "execution_count": 17,
   "metadata": {},
   "outputs": [
    {
     "name": "stdout",
     "output_type": "stream",
     "text": [
      "['Significant accumulation of water, covering the Earth or another planet.', 'Common liquid (H₂O) which forms rain, rivers, the sea, etc., and which makes up a large part of the bodies of organisms.', 'To pour water onto the soil surrounding plants.', 'Of the eyes: To secrete tears because of an irritation caused by wind, smoke etc.']\n"
     ]
    }
   ],
   "source": [
    "#example\n",
    "print(data[\"water\"])"
   ]
  },
  {
   "cell_type": "code",
   "execution_count": 18,
   "metadata": {},
   "outputs": [],
   "source": [
    "def translate(word):\n",
    "    word = word.lower()\n",
    "    if word in data:\n",
    "        return data[word]\n",
    "    elif word.title() in data:\n",
    "        return data[word.title()]\n",
    "    elif word.upper() in data:\n",
    "        return data[word.upper()]\n",
    "    elif len(get_close_matches(word, data.keys())) > 0:\n",
    "        print(\"Did you mean %s instead\" %get_close_matches(word, data.keys())[0])\n",
    "        decide = input(\"Press y for yes or n for no \")\n",
    "        if decide == \"y\" or decide == \"Y\":\n",
    "            return data[get_close_matches(word, data.keys())[0]]\n",
    "        elif decide == \"n\" or decide == \"N\":\n",
    "            return (\"Wrong word, Run again \")\n",
    "        else:\n",
    "            return (\"Pressed Invalid Key \")\n",
    "    else:\n",
    "        print(\"Word not found!!\")"
   ]
  },
  {
   "cell_type": "code",
   "execution_count": 23,
   "metadata": {},
   "outputs": [
    {
     "name": "stdout",
     "output_type": "stream",
     "text": [
      "Enter the word: wtr\n",
      "Did you mean water instead\n",
      "Press y for yes or n for no n\n",
      "Wrong word, Run again \n"
     ]
    }
   ],
   "source": [
    "word = input(\"Enter the word: \")\n",
    "output = translate(word)\n",
    "#output = data(word)\n",
    "#print(output)\n",
    "if type(output) == list:\n",
    "    for item in output:\n",
    "        print(\"-\",item)\n",
    "else:\n",
    "    print(output)"
   ]
  },
  {
   "cell_type": "code",
   "execution_count": null,
   "metadata": {},
   "outputs": [],
   "source": []
  },
  {
   "cell_type": "code",
   "execution_count": null,
   "metadata": {},
   "outputs": [],
   "source": []
  }
 ],
 "metadata": {
  "kernelspec": {
   "display_name": "Python 3",
   "language": "python",
   "name": "python3"
  },
  "language_info": {
   "codemirror_mode": {
    "name": "ipython",
    "version": 3
   },
   "file_extension": ".py",
   "mimetype": "text/x-python",
   "name": "python",
   "nbconvert_exporter": "python",
   "pygments_lexer": "ipython3",
   "version": "3.6.8"
  }
 },
 "nbformat": 4,
 "nbformat_minor": 4
}
